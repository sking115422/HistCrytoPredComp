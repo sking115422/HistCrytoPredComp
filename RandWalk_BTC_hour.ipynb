{
 "cells": [
  {
   "cell_type": "code",
   "execution_count": 237,
   "metadata": {},
   "outputs": [],
   "source": [
    "import math\n",
    "import numpy as np\n",
    "import pandas as pd\n",
    "import matplotlib.pyplot as plt\n",
    "import random"
   ]
  },
  {
   "cell_type": "code",
   "execution_count": 238,
   "metadata": {},
   "outputs": [
    {
     "data": {
      "text/html": [
       "<div>\n",
       "<style scoped>\n",
       "    .dataframe tbody tr th:only-of-type {\n",
       "        vertical-align: middle;\n",
       "    }\n",
       "\n",
       "    .dataframe tbody tr th {\n",
       "        vertical-align: top;\n",
       "    }\n",
       "\n",
       "    .dataframe thead th {\n",
       "        text-align: right;\n",
       "    }\n",
       "</style>\n",
       "<table border=\"1\" class=\"dataframe\">\n",
       "  <thead>\n",
       "    <tr style=\"text-align: right;\">\n",
       "      <th></th>\n",
       "      <th>Count</th>\n",
       "      <th>Close</th>\n",
       "      <th>Volume</th>\n",
       "      <th>VWAP</th>\n",
       "      <th>DeltaPrice</th>\n",
       "      <th>Zscore</th>\n",
       "    </tr>\n",
       "  </thead>\n",
       "  <tbody>\n",
       "    <tr>\n",
       "      <th>0</th>\n",
       "      <td>106591.0</td>\n",
       "      <td>29356.460000</td>\n",
       "      <td>5242.435795</td>\n",
       "      <td>29354.515628</td>\n",
       "      <td>-142.557143</td>\n",
       "      <td>0.761927</td>\n",
       "    </tr>\n",
       "    <tr>\n",
       "      <th>1</th>\n",
       "      <td>123334.0</td>\n",
       "      <td>29261.495286</td>\n",
       "      <td>6154.053924</td>\n",
       "      <td>29247.201666</td>\n",
       "      <td>-94.964714</td>\n",
       "      <td>-0.178496</td>\n",
       "    </tr>\n",
       "    <tr>\n",
       "      <th>2</th>\n",
       "      <td>76811.0</td>\n",
       "      <td>29300.483750</td>\n",
       "      <td>3565.355044</td>\n",
       "      <td>29308.043545</td>\n",
       "      <td>38.988464</td>\n",
       "      <td>0.338335</td>\n",
       "    </tr>\n",
       "    <tr>\n",
       "      <th>3</th>\n",
       "      <td>106278.0</td>\n",
       "      <td>29033.386250</td>\n",
       "      <td>6173.248975</td>\n",
       "      <td>29053.798420</td>\n",
       "      <td>-267.097500</td>\n",
       "      <td>-2.366390</td>\n",
       "    </tr>\n",
       "    <tr>\n",
       "      <th>4</th>\n",
       "      <td>183297.0</td>\n",
       "      <td>29058.150000</td>\n",
       "      <td>9878.326297</td>\n",
       "      <td>29062.477560</td>\n",
       "      <td>24.763750</td>\n",
       "      <td>-1.657816</td>\n",
       "    </tr>\n",
       "  </tbody>\n",
       "</table>\n",
       "</div>"
      ],
      "text/plain": [
       "      Count         Close       Volume          VWAP  DeltaPrice    Zscore\n",
       "0  106591.0  29356.460000  5242.435795  29354.515628 -142.557143  0.761927\n",
       "1  123334.0  29261.495286  6154.053924  29247.201666  -94.964714 -0.178496\n",
       "2   76811.0  29300.483750  3565.355044  29308.043545   38.988464  0.338335\n",
       "3  106278.0  29033.386250  6173.248975  29053.798420 -267.097500 -2.366390\n",
       "4  183297.0  29058.150000  9878.326297  29062.477560   24.763750 -1.657816"
      ]
     },
     "execution_count": 238,
     "metadata": {},
     "output_type": "execute_result"
    }
   ],
   "source": [
    "data_test = pd.read_csv('./data/BTC_hour_test.csv')\n",
    "\n",
    "data_test = data_test.drop(columns=[data_test.columns[0], 'Time'])\n",
    "\n",
    "data_test.head()"
   ]
  },
  {
   "cell_type": "code",
   "execution_count": 239,
   "metadata": {},
   "outputs": [
    {
     "data": {
      "text/html": [
       "<div>\n",
       "<style scoped>\n",
       "    .dataframe tbody tr th:only-of-type {\n",
       "        vertical-align: middle;\n",
       "    }\n",
       "\n",
       "    .dataframe tbody tr th {\n",
       "        vertical-align: top;\n",
       "    }\n",
       "\n",
       "    .dataframe thead th {\n",
       "        text-align: right;\n",
       "    }\n",
       "</style>\n",
       "<table border=\"1\" class=\"dataframe\">\n",
       "  <thead>\n",
       "    <tr style=\"text-align: right;\">\n",
       "      <th></th>\n",
       "      <th>Count</th>\n",
       "      <th>Close</th>\n",
       "      <th>Volume</th>\n",
       "      <th>VWAP</th>\n",
       "      <th>DeltaPrice</th>\n",
       "      <th>Zscore</th>\n",
       "    </tr>\n",
       "  </thead>\n",
       "  <tbody>\n",
       "    <tr>\n",
       "      <th>count</th>\n",
       "      <td>5.810000e+03</td>\n",
       "      <td>5810.000000</td>\n",
       "      <td>5810.000000</td>\n",
       "      <td>5810.000000</td>\n",
       "      <td>5810.000000</td>\n",
       "      <td>5810.000000</td>\n",
       "    </tr>\n",
       "    <tr>\n",
       "      <th>mean</th>\n",
       "      <td>1.657142e+05</td>\n",
       "      <td>44358.966904</td>\n",
       "      <td>6608.271453</td>\n",
       "      <td>44357.146174</td>\n",
       "      <td>3.023225</td>\n",
       "      <td>0.049650</td>\n",
       "    </tr>\n",
       "    <tr>\n",
       "      <th>std</th>\n",
       "      <td>1.069836e+05</td>\n",
       "      <td>9574.048871</td>\n",
       "      <td>5716.186073</td>\n",
       "      <td>9573.236830</td>\n",
       "      <td>438.668037</td>\n",
       "      <td>1.666908</td>\n",
       "    </tr>\n",
       "    <tr>\n",
       "      <th>min</th>\n",
       "      <td>2.890400e+04</td>\n",
       "      <td>28955.223750</td>\n",
       "      <td>961.270358</td>\n",
       "      <td>28999.309357</td>\n",
       "      <td>-4500.940179</td>\n",
       "      <td>-10.114173</td>\n",
       "    </tr>\n",
       "    <tr>\n",
       "      <th>25%</th>\n",
       "      <td>1.036755e+05</td>\n",
       "      <td>35481.581071</td>\n",
       "      <td>3469.801383</td>\n",
       "      <td>35471.393204</td>\n",
       "      <td>-202.758000</td>\n",
       "      <td>-1.045810</td>\n",
       "    </tr>\n",
       "    <tr>\n",
       "      <th>50%</th>\n",
       "      <td>1.417945e+05</td>\n",
       "      <td>44126.226250</td>\n",
       "      <td>5048.160152</td>\n",
       "      <td>44097.560700</td>\n",
       "      <td>2.261875</td>\n",
       "      <td>0.118209</td>\n",
       "    </tr>\n",
       "    <tr>\n",
       "      <th>75%</th>\n",
       "      <td>1.963722e+05</td>\n",
       "      <td>53729.587143</td>\n",
       "      <td>7810.599720</td>\n",
       "      <td>53732.551142</td>\n",
       "      <td>215.865701</td>\n",
       "      <td>1.164534</td>\n",
       "    </tr>\n",
       "    <tr>\n",
       "      <th>max</th>\n",
       "      <td>2.029928e+06</td>\n",
       "      <td>64616.061429</td>\n",
       "      <td>101564.598620</td>\n",
       "      <td>64593.936603</td>\n",
       "      <td>4709.723075</td>\n",
       "      <td>10.821005</td>\n",
       "    </tr>\n",
       "  </tbody>\n",
       "</table>\n",
       "</div>"
      ],
      "text/plain": [
       "              Count         Close         Volume          VWAP   DeltaPrice  \\\n",
       "count  5.810000e+03   5810.000000    5810.000000   5810.000000  5810.000000   \n",
       "mean   1.657142e+05  44358.966904    6608.271453  44357.146174     3.023225   \n",
       "std    1.069836e+05   9574.048871    5716.186073   9573.236830   438.668037   \n",
       "min    2.890400e+04  28955.223750     961.270358  28999.309357 -4500.940179   \n",
       "25%    1.036755e+05  35481.581071    3469.801383  35471.393204  -202.758000   \n",
       "50%    1.417945e+05  44126.226250    5048.160152  44097.560700     2.261875   \n",
       "75%    1.963722e+05  53729.587143    7810.599720  53732.551142   215.865701   \n",
       "max    2.029928e+06  64616.061429  101564.598620  64593.936603  4709.723075   \n",
       "\n",
       "            Zscore  \n",
       "count  5810.000000  \n",
       "mean      0.049650  \n",
       "std       1.666908  \n",
       "min     -10.114173  \n",
       "25%      -1.045810  \n",
       "50%       0.118209  \n",
       "75%       1.164534  \n",
       "max      10.821005  "
      ]
     },
     "execution_count": 239,
     "metadata": {},
     "output_type": "execute_result"
    }
   ],
   "source": [
    "data_test.describe()"
   ]
  },
  {
   "cell_type": "code",
   "execution_count": 240,
   "metadata": {},
   "outputs": [
    {
     "name": "stdout",
     "output_type": "stream",
     "text": [
      "4709.723074814283 -4500.940178571436\n"
     ]
    }
   ],
   "source": [
    "act_dp = data_test['DeltaPrice']\n",
    "\n",
    "print(max(act_dp), min(act_dp))\n",
    "\n",
    "# max_val = round(max(act_dp))\n",
    "max_val = 3\n",
    "\n"
   ]
  },
  {
   "cell_type": "code",
   "execution_count": 241,
   "metadata": {},
   "outputs": [],
   "source": [
    "pred_dp1 = []\n",
    "\n",
    "for i in range(0, len(act_dp)):\n",
    "        pred_val = act_dp [i] +  random.randint(-max_val, max_val)\n",
    "        pred_dp1.append(pred_val)\n",
    "    "
   ]
  },
  {
   "cell_type": "code",
   "execution_count": 242,
   "metadata": {},
   "outputs": [],
   "source": [
    "pred_dp2 = []\n",
    "\n",
    "for i in range(0, len(act_dp)):\n",
    "        if (i == 0):\n",
    "                pred_dp2.append(act_dp[i])\n",
    "        else: \n",
    "                pred_val = act_dp [i - 1] +  random.randint(-max_val, max_val)\n",
    "                pred_dp2.append(pred_val)\n",
    "                "
   ]
  },
  {
   "cell_type": "code",
   "execution_count": 243,
   "metadata": {},
   "outputs": [
    {
     "data": {
      "image/png": "[encoded data removed]",
      "text/plain": [
       "<Figure size 1008x360 with 1 Axes>"
      ]
     },
     "metadata": {
      "needs_background": "light"
     },
     "output_type": "display_data"
    }
   ],
   "source": [
    "plt.figure(figsize=(14,5))\n",
    "plt.plot(act_dp, color = 'red', label = 'Real Crytpo Price Change (Delta_P Actual)')\n",
    "plt.plot(pred_dp1, color = 'blue', label = 'Predicted Crytpo Price Change (Delta_P Predicted)')\n",
    "plt.title('BTC Hourly Prediction - Delta_P')\n",
    "plt.xlabel('Time Units (Hours)')\n",
    "plt.ylabel(' Change in Asset Price ($)')\n",
    "plt.legend()\n",
    "plt.show()"
   ]
  },
  {
   "cell_type": "code",
   "execution_count": 244,
   "metadata": {},
   "outputs": [],
   "source": [
    "pred_list = []\n",
    "price_list = []\n",
    "\n",
    "count = 0\n",
    "for each in data_test['Close']:\n",
    "\n",
    "    prediction = each + act_dp [count]\n",
    "    price = each + pred_dp2 [count]\n",
    "    \n",
    "    pred_list.append(prediction)\n",
    "    price_list.append(price)\n",
    "    \n",
    "    count = count + 1"
   ]
  },
  {
   "cell_type": "code",
   "execution_count": 245,
   "metadata": {},
   "outputs": [
    {
     "name": "stdout",
     "output_type": "stream",
     "text": [
      "Root Mean Squared Error (RMSE): 621.7148632414797\n"
     ]
    }
   ],
   "source": [
    "diff_sq_sum = 0\n",
    "for i in range(0, len(price_list)):\n",
    "    diff = price_list[i] - pred_list[i]\n",
    "    diff_sq = diff * diff\n",
    "    diff_sq_sum = diff_sq_sum + diff_sq\n",
    "    \n",
    "RMSE = math.sqrt(diff_sq_sum/len(price_list))\n",
    "    \n",
    "print(\"Root Mean Squared Error (RMSE):\", RMSE)"
   ]
  },
  {
   "cell_type": "code",
   "execution_count": 246,
   "metadata": {},
   "outputs": [
    {
     "name": "stdout",
     "output_type": "stream",
     "text": [
      "Mean Absolue Percentage Error (MAPE): 0.010102973749879979\n"
     ]
    }
   ],
   "source": [
    "diff_sum = 0\n",
    "for i in range(0, len(price_list)):\n",
    "    diff = abs((price_list[i] - pred_list[i]) / price_list [i])\n",
    "    diff_sum = diff_sum + diff\n",
    "    \n",
    "MAPE = diff_sum/len(price_list)\n",
    "    \n",
    "print(\"Mean Absolue Percentage Error (MAPE):\", MAPE)"
   ]
  },
  {
   "cell_type": "code",
   "execution_count": 247,
   "metadata": {},
   "outputs": [
    {
     "name": "stdout",
     "output_type": "stream",
     "text": [
      "Correct Direction Prediction Accuracy: 0.5901187812015838\n"
     ]
    }
   ],
   "source": [
    "dir_match_count = 0\n",
    "price_diff = 0\n",
    "pred_diff = 0\n",
    "for i in range(1, len(price_list)):\n",
    "    \n",
    "    price_diff = price_list [i] - price_list[i - 1]\n",
    "    pred_diff = pred_list[i] - pred_list[i - 1]\n",
    "    \n",
    "    if np.sign(price_diff) == np.sign(pred_diff):\n",
    "        dir_match_count = dir_match_count + 1\n",
    "\n",
    "correct_dir_perc = dir_match_count/(len(price_list) - 1)\n",
    "        \n",
    "print(\"Correct Direction Prediction Accuracy:\", correct_dir_perc)"
   ]
  }
 ],
 "metadata": {
  "interpreter": {
   "hash": "7b52670694013859abc6239aba0f59f0ccd1c41702b973c8df42e40f58c8444f"
  },
  "kernelspec": {
   "display_name": "Python 3.8.11 ('venv': venv)",
   "language": "python",
   "name": "python3"
  },
  "language_info": {
   "codemirror_mode": {
    "name": "ipython",
    "version": 3
   },
   "file_extension": ".py",
   "mimetype": "text/x-python",
   "name": "python",
   "nbconvert_exporter": "python",
   "pygments_lexer": "ipython3",
   "version": "3.8.11"
  },
  "orig_nbformat": 4
 },
 "nbformat": 4,
 "nbformat_minor": 2
}
